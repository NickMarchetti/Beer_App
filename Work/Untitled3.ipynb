{
 "cells": [
  {
   "cell_type": "code",
   "execution_count": 8,
   "metadata": {},
   "outputs": [],
   "source": [
    "import sqlite3\n",
    "conn = sqlite3.connect(\"beer_db.sqlite\")"
   ]
  },
  {
   "cell_type": "code",
   "execution_count": 9,
   "metadata": {},
   "outputs": [],
   "source": [
    "cur = conn.cursor()"
   ]
  },
  {
   "cell_type": "code",
   "execution_count": 10,
   "metadata": {},
   "outputs": [
    {
     "data": {
      "text/plain": [
       "<sqlite3.Cursor at 0x10f7fce30>"
      ]
     },
     "execution_count": 10,
     "metadata": {},
     "output_type": "execute_result"
    }
   ],
   "source": [
    "cur.execute(\"select * from beer_db limit 5;\")"
   ]
  },
  {
   "cell_type": "code",
   "execution_count": 11,
   "metadata": {},
   "outputs": [
    {
     "name": "stdout",
     "output_type": "stream",
     "text": [
      "[(0, \"Bitches' Bank\", '234', 4.41, '18th Street Brewery - Gary Taproom', 'Russian Imperial Stout', '12.00%', 'great-lakes', 41.5990572, -87.267179, 'Gary', 'IN'), (1, 'Marshmallow Handjee', '1,682', 4.73, '3 Floyds Brewing Co.', 'Russian Imperial Stout', '15.00%', 'great-lakes', 41.5355252, -87.51681140000002, 'Munster', 'IN'), (2, 'Pear Bear', '298', 4.36, '3 Floyds Brewing Co.', 'American Wild Ale', '7.50%', 'great-lakes', 41.5355252, -87.51681140000002, 'Munster', 'IN'), (3, 'Barrel Aged Behemoth', '474', 4.36, '3 Floyds Brewing Co.', 'American Barleywine', '12.50%', 'great-lakes', 41.5355252, -87.51681140000002, 'Munster', 'IN'), (4, 'French Vanilla Militia', '35', 4.51, '3 Floyds Brewing Co.', 'Russian Imperial Stout', '15.00%', 'great-lakes', 41.5355252, -87.51681140000002, 'Munster', 'IN')]\n"
     ]
    }
   ],
   "source": [
    "results = cur.fetchall()\n",
    "print(results)"
   ]
  },
  {
   "cell_type": "code",
   "execution_count": null,
   "metadata": {},
   "outputs": [],
   "source": []
  }
 ],
 "metadata": {
  "kernelspec": {
   "display_name": "Python 3",
   "language": "python",
   "name": "python3"
  },
  "language_info": {
   "codemirror_mode": {
    "name": "ipython",
    "version": 3
   },
   "file_extension": ".py",
   "mimetype": "text/x-python",
   "name": "python",
   "nbconvert_exporter": "python",
   "pygments_lexer": "ipython3",
   "version": "3.6.7"
  }
 },
 "nbformat": 4,
 "nbformat_minor": 2
}
